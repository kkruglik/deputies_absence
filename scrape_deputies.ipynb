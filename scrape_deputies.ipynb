{
  "nbformat": 4,
  "nbformat_minor": 0,
  "metadata": {
    "kernelspec": {
      "display_name": "Python 3",
      "language": "python",
      "name": "python3"
    },
    "language_info": {
      "codemirror_mode": {
        "name": "ipython",
        "version": 3
      },
      "file_extension": ".py",
      "mimetype": "text/x-python",
      "name": "python",
      "nbconvert_exporter": "python",
      "pygments_lexer": "ipython3",
      "version": "3.9.1"
    },
    "colab": {
      "name": "scrape_deputies.ipynb",
      "provenance": [],
      "collapsed_sections": [
        "RkSsA-em3ef4",
        "5aIsv_FQ28nA"
      ]
    }
  },
  "cells": [
    {
      "cell_type": "code",
      "metadata": {
        "id": "QxWF_2Pe28lO"
      },
      "source": [
        "import time\n",
        "import re\n",
        "import pandas as pd\n",
        "import os\n",
        "from bs4 import BeautifulSoup\n",
        "import requests\n",
        "import numpy as np\n",
        "import math"
      ],
      "execution_count": 2,
      "outputs": []
    },
    {
      "cell_type": "code",
      "metadata": {
        "id": "-FWBSoec4Awi"
      },
      "source": [
        "from selenium import webdriver\n",
        "from webdriver_manager.chrome import ChromeDriverManager\n",
        "from selenium.webdriver.support.ui import WebDriverWait\n",
        "from selenium.webdriver.support import expected_conditions as EC\n",
        "from selenium.webdriver.common.by import By\n",
        "from selenium.common.exceptions import NoSuchElementException, ElementNotInteractableException, TimeoutException, StaleElementReferenceException, ElementClickInterceptedException"
      ],
      "execution_count": null,
      "outputs": []
    },
    {
      "cell_type": "markdown",
      "metadata": {
        "id": "NlYYKohF28nn"
      },
      "source": [
        "### Агрегированные данные по депутатам и партиям"
      ]
    },
    {
      "cell_type": "code",
      "metadata": {
        "id": "tVgOVQ8U28no"
      },
      "source": [
        "# загрузка данных\n",
        "dep_full_data = pd.read_csv('/content/dep_full_data.csv')"
      ],
      "execution_count": 3,
      "outputs": []
    },
    {
      "cell_type": "markdown",
      "metadata": {
        "id": "h_me2GEFoBBQ"
      },
      "source": [
        "Топ-10 депутатов-прогульщиков, которые пропустили больше всего заседаний в этом созыве. 9 из 10 относятся к партии Единая Россия. А депутат Колесников пропустил почти половину заседаний. \"Важные истории\" ещё выяснили, что он за время этого созыва даже ни разу не выступил.\n",
        "\n",
        "Можно отправить этим депутатам запросы и спросить, почему они пропустили так много заседаний. Изучить их законодательную деятельность и посмотреть собираются ли они идти на выборы. "
      ]
    },
    {
      "cell_type": "code",
      "metadata": {
        "colab": {
          "base_uri": "https://localhost:8080/",
          "height": 363
        },
        "id": "X8nsNjLM28nq",
        "outputId": "b6169c80-dde8-436d-a8c9-626a1bf09810"
      },
      "source": [
        "# топ-10 депутатов прогульщиков\n",
        "top_abs_dep = dep_full_data.groupby(['name', 'party'])[['total_absence', 'meetings', 'percent_of_presence']].sum().sort_values(by='total_absence', ascending=False).reset_index()\n",
        "top_abs_dep.columns = ['имя_депутата', 'партия', 'сколько_заседаний_пропустил', 'сколько_заседений_всего', 'процент_присутсвия']\n",
        "top_abs_dep.head(10)"
      ],
      "execution_count": 8,
      "outputs": [
        {
          "output_type": "execute_result",
          "data": {
            "text/html": [
              "<div>\n",
              "<style scoped>\n",
              "    .dataframe tbody tr th:only-of-type {\n",
              "        vertical-align: middle;\n",
              "    }\n",
              "\n",
              "    .dataframe tbody tr th {\n",
              "        vertical-align: top;\n",
              "    }\n",
              "\n",
              "    .dataframe thead th {\n",
              "        text-align: right;\n",
              "    }\n",
              "</style>\n",
              "<table border=\"1\" class=\"dataframe\">\n",
              "  <thead>\n",
              "    <tr style=\"text-align: right;\">\n",
              "      <th></th>\n",
              "      <th>имя_депутата</th>\n",
              "      <th>партия</th>\n",
              "      <th>сколько_заседаний_пропустил</th>\n",
              "      <th>сколько_заседений_всего</th>\n",
              "      <th>процент_присутсвия</th>\n",
              "    </tr>\n",
              "  </thead>\n",
              "  <tbody>\n",
              "    <tr>\n",
              "      <th>0</th>\n",
              "      <td>Колесников Олег Алексеевич</td>\n",
              "      <td>Фракция Всероссийской политической партии \"ЕДИ...</td>\n",
              "      <td>172.0</td>\n",
              "      <td>365</td>\n",
              "      <td>0.529</td>\n",
              "    </tr>\n",
              "    <tr>\n",
              "      <th>1</th>\n",
              "      <td>Барышев Андрей Викторович</td>\n",
              "      <td>Фракция Всероссийской политической партии \"ЕДИ...</td>\n",
              "      <td>129.0</td>\n",
              "      <td>365</td>\n",
              "      <td>0.647</td>\n",
              "    </tr>\n",
              "    <tr>\n",
              "      <th>2</th>\n",
              "      <td>Саблин Дмитрий Вадимович</td>\n",
              "      <td>Фракция Всероссийской политической партии \"ЕДИ...</td>\n",
              "      <td>127.0</td>\n",
              "      <td>365</td>\n",
              "      <td>0.652</td>\n",
              "    </tr>\n",
              "    <tr>\n",
              "      <th>3</th>\n",
              "      <td>Марченко Евгений Евгеньевич</td>\n",
              "      <td>Фракция Всероссийской политической партии \"ЕДИ...</td>\n",
              "      <td>115.0</td>\n",
              "      <td>365</td>\n",
              "      <td>0.685</td>\n",
              "    </tr>\n",
              "    <tr>\n",
              "      <th>4</th>\n",
              "      <td>Ремезков Александр Александрович</td>\n",
              "      <td>Фракция Политической партии СПРАВЕДЛИВАЯ РОССИЯ</td>\n",
              "      <td>107.0</td>\n",
              "      <td>365</td>\n",
              "      <td>0.707</td>\n",
              "    </tr>\n",
              "    <tr>\n",
              "      <th>5</th>\n",
              "      <td>Жупиков Александр Владимирович</td>\n",
              "      <td>Фракция Всероссийской политической партии \"ЕДИ...</td>\n",
              "      <td>103.0</td>\n",
              "      <td>362</td>\n",
              "      <td>0.715</td>\n",
              "    </tr>\n",
              "    <tr>\n",
              "      <th>6</th>\n",
              "      <td>Бурнашов Алексей Леонидович</td>\n",
              "      <td>Фракция Всероссийской политической партии \"ЕДИ...</td>\n",
              "      <td>102.0</td>\n",
              "      <td>365</td>\n",
              "      <td>0.721</td>\n",
              "    </tr>\n",
              "    <tr>\n",
              "      <th>7</th>\n",
              "      <td>Мищеряков Юрий Николаевич</td>\n",
              "      <td>Фракция Всероссийской политической партии \"ЕДИ...</td>\n",
              "      <td>98.0</td>\n",
              "      <td>365</td>\n",
              "      <td>0.732</td>\n",
              "    </tr>\n",
              "    <tr>\n",
              "      <th>8</th>\n",
              "      <td>Скриванов Дмитрий Станиславович</td>\n",
              "      <td>Фракция Всероссийской политической партии \"ЕДИ...</td>\n",
              "      <td>96.0</td>\n",
              "      <td>365</td>\n",
              "      <td>0.737</td>\n",
              "    </tr>\n",
              "    <tr>\n",
              "      <th>9</th>\n",
              "      <td>Муцоев Зелимхан Аликоевич</td>\n",
              "      <td>Фракция Всероссийской политической партии \"ЕДИ...</td>\n",
              "      <td>95.0</td>\n",
              "      <td>365</td>\n",
              "      <td>0.740</td>\n",
              "    </tr>\n",
              "  </tbody>\n",
              "</table>\n",
              "</div>"
            ],
            "text/plain": [
              "                       имя_депутата  ... процент_присутсвия\n",
              "0        Колесников Олег Алексеевич  ...              0.529\n",
              "1         Барышев Андрей Викторович  ...              0.647\n",
              "2          Саблин Дмитрий Вадимович  ...              0.652\n",
              "3       Марченко Евгений Евгеньевич  ...              0.685\n",
              "4  Ремезков Александр Александрович  ...              0.707\n",
              "5    Жупиков Александр Владимирович  ...              0.715\n",
              "6       Бурнашов Алексей Леонидович  ...              0.721\n",
              "7         Мищеряков Юрий Николаевич  ...              0.732\n",
              "8   Скриванов Дмитрий Станиславович  ...              0.737\n",
              "9         Муцоев Зелимхан Аликоевич  ...              0.740\n",
              "\n",
              "[10 rows x 5 columns]"
            ]
          },
          "metadata": {
            "tags": []
          },
          "execution_count": 8
        }
      ]
    },
    {
      "cell_type": "markdown",
      "metadata": {
        "id": "AVo3cHrax4fM"
      },
      "source": [
        ""
      ]
    },
    {
      "cell_type": "markdown",
      "metadata": {
        "id": "RrMIQsrfKp_0"
      },
      "source": [
        "Это, наоборот,  депутаты-отличники, которые посетили либо все, либо почти все заседания"
      ]
    },
    {
      "cell_type": "code",
      "metadata": {
        "colab": {
          "base_uri": "https://localhost:8080/",
          "height": 363
        },
        "id": "Qo1SdRsk28nt",
        "outputId": "4be68ddd-4922-4ffc-bb5b-0b6552583916"
      },
      "source": [
        "# топ-10 депутатов-отличников\n",
        "top_pres_dep = dep_full_data.groupby(['name', 'party'])[['total_absence', 'meetings', 'percent_of_presence']].sum().sort_values(by='total_absence', ascending=True).reset_index()\n",
        "top_pres_dep.columns = ['имя_депутата', 'партия', 'сколько_заседаний_пропустил', 'сколько_заседений_всего', 'процент_присутсвия']\n",
        "top_pres_dep.head(10)"
      ],
      "execution_count": 12,
      "outputs": [
        {
          "output_type": "execute_result",
          "data": {
            "text/html": [
              "<div>\n",
              "<style scoped>\n",
              "    .dataframe tbody tr th:only-of-type {\n",
              "        vertical-align: middle;\n",
              "    }\n",
              "\n",
              "    .dataframe tbody tr th {\n",
              "        vertical-align: top;\n",
              "    }\n",
              "\n",
              "    .dataframe thead th {\n",
              "        text-align: right;\n",
              "    }\n",
              "</style>\n",
              "<table border=\"1\" class=\"dataframe\">\n",
              "  <thead>\n",
              "    <tr style=\"text-align: right;\">\n",
              "      <th></th>\n",
              "      <th>имя_депутата</th>\n",
              "      <th>партия</th>\n",
              "      <th>сколько_заседаний_пропустил</th>\n",
              "      <th>сколько_заседений_всего</th>\n",
              "      <th>процент_присутсвия</th>\n",
              "    </tr>\n",
              "  </thead>\n",
              "  <tbody>\n",
              "    <tr>\n",
              "      <th>0</th>\n",
              "      <td>Хасанов Мурат Русланович</td>\n",
              "      <td>Фракция Всероссийской политической партии \"ЕДИ...</td>\n",
              "      <td>0.0</td>\n",
              "      <td>365</td>\n",
              "      <td>1.000</td>\n",
              "    </tr>\n",
              "    <tr>\n",
              "      <th>1</th>\n",
              "      <td>Куринный Алексей Владимирович</td>\n",
              "      <td>Фракция Политической партии \"КОММУНИСТИЧЕСКАЯ ...</td>\n",
              "      <td>0.0</td>\n",
              "      <td>365</td>\n",
              "      <td>1.000</td>\n",
              "    </tr>\n",
              "    <tr>\n",
              "      <th>2</th>\n",
              "      <td>Альшевских Андрей Геннадьевич</td>\n",
              "      <td>Фракция Всероссийской политической партии \"ЕДИ...</td>\n",
              "      <td>0.0</td>\n",
              "      <td>365</td>\n",
              "      <td>1.000</td>\n",
              "    </tr>\n",
              "    <tr>\n",
              "      <th>3</th>\n",
              "      <td>Гришин Евгений Анатольевич</td>\n",
              "      <td>Фракция Всероссийской политической партии \"ЕДИ...</td>\n",
              "      <td>0.0</td>\n",
              "      <td>31</td>\n",
              "      <td>1.000</td>\n",
              "    </tr>\n",
              "    <tr>\n",
              "      <th>4</th>\n",
              "      <td>Калашников Сергей Вячеславович</td>\n",
              "      <td>Фракция Политической партии ЛДПР - Либерально-...</td>\n",
              "      <td>0.0</td>\n",
              "      <td>51</td>\n",
              "      <td>1.000</td>\n",
              "    </tr>\n",
              "    <tr>\n",
              "      <th>5</th>\n",
              "      <td>Волков Юрий Геннадьевич</td>\n",
              "      <td>Фракция Политической партии ЛДПР - Либерально-...</td>\n",
              "      <td>0.0</td>\n",
              "      <td>365</td>\n",
              "      <td>1.000</td>\n",
              "    </tr>\n",
              "    <tr>\n",
              "      <th>6</th>\n",
              "      <td>Минкин Иршат Султанович</td>\n",
              "      <td>Фракция Всероссийской политической партии \"ЕДИ...</td>\n",
              "      <td>1.0</td>\n",
              "      <td>365</td>\n",
              "      <td>0.997</td>\n",
              "    </tr>\n",
              "    <tr>\n",
              "      <th>7</th>\n",
              "      <td>Щапов Михаил Викторович</td>\n",
              "      <td>Фракция Политической партии \"КОММУНИСТИЧЕСКАЯ ...</td>\n",
              "      <td>1.0</td>\n",
              "      <td>365</td>\n",
              "      <td>0.997</td>\n",
              "    </tr>\n",
              "    <tr>\n",
              "      <th>8</th>\n",
              "      <td>Иванюженков Борис Викторович</td>\n",
              "      <td>Фракция Политической партии \"КОММУНИСТИЧЕСКАЯ ...</td>\n",
              "      <td>1.0</td>\n",
              "      <td>91</td>\n",
              "      <td>0.989</td>\n",
              "    </tr>\n",
              "    <tr>\n",
              "      <th>9</th>\n",
              "      <td>Боярский Сергей Михайлович</td>\n",
              "      <td>Фракция Всероссийской политической партии \"ЕДИ...</td>\n",
              "      <td>1.0</td>\n",
              "      <td>365</td>\n",
              "      <td>0.997</td>\n",
              "    </tr>\n",
              "  </tbody>\n",
              "</table>\n",
              "</div>"
            ],
            "text/plain": [
              "                     имя_депутата  ... процент_присутсвия\n",
              "0        Хасанов Мурат Русланович  ...              1.000\n",
              "1   Куринный Алексей Владимирович  ...              1.000\n",
              "2   Альшевских Андрей Геннадьевич  ...              1.000\n",
              "3      Гришин Евгений Анатольевич  ...              1.000\n",
              "4  Калашников Сергей Вячеславович  ...              1.000\n",
              "5         Волков Юрий Геннадьевич  ...              1.000\n",
              "6         Минкин Иршат Султанович  ...              0.997\n",
              "7         Щапов Михаил Викторович  ...              0.997\n",
              "8    Иванюженков Борис Викторович  ...              0.989\n",
              "9      Боярский Сергей Михайлович  ...              0.997\n",
              "\n",
              "[10 rows x 5 columns]"
            ]
          },
          "metadata": {
            "tags": []
          },
          "execution_count": 12
        }
      ]
    },
    {
      "cell_type": "markdown",
      "metadata": {
        "id": "ylMb0R9uLBeb"
      },
      "source": [
        "Несмотря на то, что главные прогульщики из \"Единой России\", но по общему числу прогулов эта партия на несколько процентов остаёт от \"Справедливой России\". Самыми же дисциплинированными оказались коммунисты."
      ]
    },
    {
      "cell_type": "code",
      "metadata": {
        "colab": {
          "base_uri": "https://localhost:8080/",
          "height": 237
        },
        "id": "I5aziwCF28nv",
        "outputId": "2617290d-29bf-427d-874e-d9c6c1aafd28"
      },
      "source": [
        "# прогулы по партиям в процентах\n",
        "party_abs = dep_full_data.groupby(['party'])[['total_absence', 'meetings']].sum().sort_values(by='total_absence', ascending=False)\n",
        "party_abs_total = pd.DataFrame(party_abs.total_absence / party_abs.meetings * 100)\n",
        "party_abs_total.rename(columns={0:'процент_прогулов'},  inplace=True)\n",
        "party_abs_total = party_abs_total.rename_axis('партия')\n",
        "party_abs_total.sort_values(by='процент_прогулов', ascending=False)"
      ],
      "execution_count": 9,
      "outputs": [
        {
          "output_type": "execute_result",
          "data": {
            "text/html": [
              "<div>\n",
              "<style scoped>\n",
              "    .dataframe tbody tr th:only-of-type {\n",
              "        vertical-align: middle;\n",
              "    }\n",
              "\n",
              "    .dataframe tbody tr th {\n",
              "        vertical-align: top;\n",
              "    }\n",
              "\n",
              "    .dataframe thead th {\n",
              "        text-align: right;\n",
              "    }\n",
              "</style>\n",
              "<table border=\"1\" class=\"dataframe\">\n",
              "  <thead>\n",
              "    <tr style=\"text-align: right;\">\n",
              "      <th></th>\n",
              "      <th>процент_прогулов</th>\n",
              "    </tr>\n",
              "    <tr>\n",
              "      <th>партия</th>\n",
              "      <th></th>\n",
              "    </tr>\n",
              "  </thead>\n",
              "  <tbody>\n",
              "    <tr>\n",
              "      <th>Фракция Политической партии СПРАВЕДЛИВАЯ РОССИЯ</th>\n",
              "      <td>11.194133</td>\n",
              "    </tr>\n",
              "    <tr>\n",
              "      <th>Фракция Всероссийской политической партии \"ЕДИНАЯ РОССИЯ\"</th>\n",
              "      <td>7.843605</td>\n",
              "    </tr>\n",
              "    <tr>\n",
              "      <th>Фракция Политической партии ЛДПР - Либерально-демократической партии России</th>\n",
              "      <td>3.612755</td>\n",
              "    </tr>\n",
              "    <tr>\n",
              "      <th>Депутаты, не входящие во фракции</th>\n",
              "      <td>3.576341</td>\n",
              "    </tr>\n",
              "    <tr>\n",
              "      <th>Фракция Политической партии \"КОММУНИСТИЧЕСКАЯ ПАРТИЯ РОССИЙСКОЙ ФЕДЕРАЦИИ\"</th>\n",
              "      <td>2.876359</td>\n",
              "    </tr>\n",
              "  </tbody>\n",
              "</table>\n",
              "</div>"
            ],
            "text/plain": [
              "                                                    процент_прогулов\n",
              "партия                                                              \n",
              "Фракция Политической партии СПРАВЕДЛИВАЯ РОССИЯ            11.194133\n",
              "Фракция Всероссийской политической партии \"ЕДИН...          7.843605\n",
              "Фракция Политической партии ЛДПР - Либерально-д...          3.612755\n",
              "Депутаты, не входящие во фракции                            3.576341\n",
              "Фракция Политической партии \"КОММУНИСТИЧЕСКАЯ П...          2.876359"
            ]
          },
          "metadata": {
            "tags": []
          },
          "execution_count": 9
        }
      ]
    },
    {
      "cell_type": "markdown",
      "metadata": {
        "id": "hMuc89UtWLB8"
      },
      "source": [
        "Всего же депутаты прогуляли чуть больше 7% заседаний"
      ]
    },
    {
      "cell_type": "code",
      "metadata": {
        "colab": {
          "base_uri": "https://localhost:8080/"
        },
        "id": "eQVE9rgRQolJ",
        "outputId": "710ea9b1-fb9d-4dda-f4ab-473c5ef34901"
      },
      "source": [
        "# общий процент прогулов\n",
        "dep_full_data.total_absence.sum(axis=0) / dep_full_data.meetings.sum(axis=0)  * 100"
      ],
      "execution_count": 10,
      "outputs": [
        {
          "output_type": "execute_result",
          "data": {
            "text/plain": [
              "7.186336464560204"
            ]
          },
          "metadata": {
            "tags": []
          },
          "execution_count": 10
        }
      ]
    },
    {
      "cell_type": "markdown",
      "metadata": {
        "id": "vC6g_xrDWz9R"
      },
      "source": [
        "Ещё по хранящимся на депутатов данных можно понять как они голосовали на заседаниях. Далее топ-10 депутатов, которые  чаще всего голосуют \"За\". Других партий кроме \"Единой России\" в этом списке нет."
      ]
    },
    {
      "cell_type": "code",
      "metadata": {
        "colab": {
          "base_uri": "https://localhost:8080/",
          "height": 363
        },
        "id": "_S2ayPfb28ny",
        "outputId": "bc22654c-a56b-4a2a-f065-fe849983dd6c"
      },
      "source": [
        "# топ-10 депутатов, которые чаще голосовали \"за\"\n",
        "top_yes_dep = dep_full_data.groupby(['name', 'party'])[['voting_yes_count', 'voting_yes']].sum().sort_values(by='voting_yes_count', ascending=False).reset_index()\n",
        "top_yes_dep.columns = ['имя_депутата', 'партия', 'всего_голосов_за', 'процент_голосов_за']\n",
        "top_yes_dep.head(10)"
      ],
      "execution_count": 11,
      "outputs": [
        {
          "output_type": "execute_result",
          "data": {
            "text/html": [
              "<div>\n",
              "<style scoped>\n",
              "    .dataframe tbody tr th:only-of-type {\n",
              "        vertical-align: middle;\n",
              "    }\n",
              "\n",
              "    .dataframe tbody tr th {\n",
              "        vertical-align: top;\n",
              "    }\n",
              "\n",
              "    .dataframe thead th {\n",
              "        text-align: right;\n",
              "    }\n",
              "</style>\n",
              "<table border=\"1\" class=\"dataframe\">\n",
              "  <thead>\n",
              "    <tr style=\"text-align: right;\">\n",
              "      <th></th>\n",
              "      <th>имя_депутата</th>\n",
              "      <th>партия</th>\n",
              "      <th>всего_голосов_за</th>\n",
              "      <th>процент_голосов_за</th>\n",
              "    </tr>\n",
              "  </thead>\n",
              "  <tbody>\n",
              "    <tr>\n",
              "      <th>0</th>\n",
              "      <td>Хасанов Мурат Русланович</td>\n",
              "      <td>Фракция Всероссийской политической партии \"ЕДИ...</td>\n",
              "      <td>12719.0</td>\n",
              "      <td>0.781</td>\n",
              "    </tr>\n",
              "    <tr>\n",
              "      <th>1</th>\n",
              "      <td>Альшевских Андрей Геннадьевич</td>\n",
              "      <td>Фракция Всероссийской политической партии \"ЕДИ...</td>\n",
              "      <td>12703.0</td>\n",
              "      <td>0.780</td>\n",
              "    </tr>\n",
              "    <tr>\n",
              "      <th>2</th>\n",
              "      <td>Данчикова Галина Иннокентьевна</td>\n",
              "      <td>Фракция Всероссийской политической партии \"ЕДИ...</td>\n",
              "      <td>12671.0</td>\n",
              "      <td>0.778</td>\n",
              "    </tr>\n",
              "    <tr>\n",
              "      <th>3</th>\n",
              "      <td>Марьяш Ирина Евгеньевна</td>\n",
              "      <td>Фракция Всероссийской политической партии \"ЕДИ...</td>\n",
              "      <td>12654.0</td>\n",
              "      <td>0.777</td>\n",
              "    </tr>\n",
              "    <tr>\n",
              "      <th>4</th>\n",
              "      <td>Солнцева Светлана Юрьевна</td>\n",
              "      <td>Фракция Всероссийской политической партии \"ЕДИ...</td>\n",
              "      <td>12654.0</td>\n",
              "      <td>0.777</td>\n",
              "    </tr>\n",
              "    <tr>\n",
              "      <th>5</th>\n",
              "      <td>Окунева Ольга Владимировна</td>\n",
              "      <td>Фракция Всероссийской политической партии \"ЕДИ...</td>\n",
              "      <td>12654.0</td>\n",
              "      <td>0.777</td>\n",
              "    </tr>\n",
              "    <tr>\n",
              "      <th>6</th>\n",
              "      <td>Мельник Владимир Иванович</td>\n",
              "      <td>Фракция Всероссийской политической партии \"ЕДИ...</td>\n",
              "      <td>12638.0</td>\n",
              "      <td>0.776</td>\n",
              "    </tr>\n",
              "    <tr>\n",
              "      <th>7</th>\n",
              "      <td>Канаев Алексей Валерианович</td>\n",
              "      <td>Фракция Всероссийской политической партии \"ЕДИ...</td>\n",
              "      <td>12622.0</td>\n",
              "      <td>0.775</td>\n",
              "    </tr>\n",
              "    <tr>\n",
              "      <th>8</th>\n",
              "      <td>Боярский Сергей Михайлович</td>\n",
              "      <td>Фракция Всероссийской политической партии \"ЕДИ...</td>\n",
              "      <td>12622.0</td>\n",
              "      <td>0.775</td>\n",
              "    </tr>\n",
              "    <tr>\n",
              "      <th>9</th>\n",
              "      <td>Ишсарин Рамзил Рафаилович</td>\n",
              "      <td>Фракция Всероссийской политической партии \"ЕДИ...</td>\n",
              "      <td>12605.0</td>\n",
              "      <td>0.774</td>\n",
              "    </tr>\n",
              "  </tbody>\n",
              "</table>\n",
              "</div>"
            ],
            "text/plain": [
              "                     имя_депутата  ... процент_голосов_за\n",
              "0        Хасанов Мурат Русланович  ...              0.781\n",
              "1   Альшевских Андрей Геннадьевич  ...              0.780\n",
              "2  Данчикова Галина Иннокентьевна  ...              0.778\n",
              "3         Марьяш Ирина Евгеньевна  ...              0.777\n",
              "4       Солнцева Светлана Юрьевна  ...              0.777\n",
              "5      Окунева Ольга Владимировна  ...              0.777\n",
              "6       Мельник Владимир Иванович  ...              0.776\n",
              "7     Канаев Алексей Валерианович  ...              0.775\n",
              "8      Боярский Сергей Михайлович  ...              0.775\n",
              "9       Ишсарин Рамзил Рафаилович  ...              0.774\n",
              "\n",
              "[10 rows x 4 columns]"
            ]
          },
          "metadata": {
            "tags": []
          },
          "execution_count": 11
        }
      ]
    },
    {
      "cell_type": "markdown",
      "metadata": {
        "id": "4A1M2GhFXMUQ"
      },
      "source": [
        "Обратный топ-10 депутатов, которые чаще голосуют \"против\". Тут картина совершенно другая -- сплошь системная оппозиция в лице КПРФ. \n",
        "\n",
        "Интересно, что даже у основных несогласных депутатов процент голосов \"против\" всё равно очень маленький -- меньше 5% от общего числа голосов.  "
      ]
    },
    {
      "cell_type": "code",
      "metadata": {
        "colab": {
          "base_uri": "https://localhost:8080/",
          "height": 363
        },
        "id": "vEyZ2P8Y28nz",
        "outputId": "925f5261-cbc0-4b57-d8a5-5c5d1d1b31bb"
      },
      "source": [
        "# топ-10 депутатов, которые больше голосовали \"против\"\n",
        "top_no_dep = dep_full_data.groupby(['name', 'party'])[['voting_no_count', 'voting_no']].sum().sort_values(by='voting_no_count', ascending=False).reset_index()\n",
        "top_no_dep.columns = ['имя_депутата', 'партия', 'всего_голосов_против', 'процент_голосов_против']\n",
        "top_no_dep.head(10)"
      ],
      "execution_count": 15,
      "outputs": [
        {
          "output_type": "execute_result",
          "data": {
            "text/html": [
              "<div>\n",
              "<style scoped>\n",
              "    .dataframe tbody tr th:only-of-type {\n",
              "        vertical-align: middle;\n",
              "    }\n",
              "\n",
              "    .dataframe tbody tr th {\n",
              "        vertical-align: top;\n",
              "    }\n",
              "\n",
              "    .dataframe thead th {\n",
              "        text-align: right;\n",
              "    }\n",
              "</style>\n",
              "<table border=\"1\" class=\"dataframe\">\n",
              "  <thead>\n",
              "    <tr style=\"text-align: right;\">\n",
              "      <th></th>\n",
              "      <th>имя_депутата</th>\n",
              "      <th>партия</th>\n",
              "      <th>всего_голосов_против</th>\n",
              "      <th>процент_голосов_против</th>\n",
              "    </tr>\n",
              "  </thead>\n",
              "  <tbody>\n",
              "    <tr>\n",
              "      <th>0</th>\n",
              "      <td>Куринный Алексей Владимирович</td>\n",
              "      <td>Фракция Политической партии \"КОММУНИСТИЧЕСКАЯ ...</td>\n",
              "      <td>765.0</td>\n",
              "      <td>0.047</td>\n",
              "    </tr>\n",
              "    <tr>\n",
              "      <th>1</th>\n",
              "      <td>Осадчий Николай Иванович</td>\n",
              "      <td>Фракция Политической партии \"КОММУНИСТИЧЕСКАЯ ...</td>\n",
              "      <td>728.0</td>\n",
              "      <td>0.045</td>\n",
              "    </tr>\n",
              "    <tr>\n",
              "      <th>2</th>\n",
              "      <td>Коломейцев Николай Васильевич</td>\n",
              "      <td>Фракция Политической партии \"КОММУНИСТИЧЕСКАЯ ...</td>\n",
              "      <td>717.0</td>\n",
              "      <td>0.044</td>\n",
              "    </tr>\n",
              "    <tr>\n",
              "      <th>3</th>\n",
              "      <td>Ганзя Вера Анатольевна</td>\n",
              "      <td>Фракция Политической партии \"КОММУНИСТИЧЕСКАЯ ...</td>\n",
              "      <td>717.0</td>\n",
              "      <td>0.044</td>\n",
              "    </tr>\n",
              "    <tr>\n",
              "      <th>4</th>\n",
              "      <td>Арефьев Николай Васильевич</td>\n",
              "      <td>Фракция Политической партии \"КОММУНИСТИЧЕСКАЯ ...</td>\n",
              "      <td>717.0</td>\n",
              "      <td>0.044</td>\n",
              "    </tr>\n",
              "    <tr>\n",
              "      <th>5</th>\n",
              "      <td>Казанков Сергей Иванович</td>\n",
              "      <td>Фракция Политической партии \"КОММУНИСТИЧЕСКАЯ ...</td>\n",
              "      <td>700.0</td>\n",
              "      <td>0.043</td>\n",
              "    </tr>\n",
              "    <tr>\n",
              "      <th>6</th>\n",
              "      <td>Кравец Александр Алексеевич</td>\n",
              "      <td>Фракция Политической партии \"КОММУНИСТИЧЕСКАЯ ...</td>\n",
              "      <td>700.0</td>\n",
              "      <td>0.043</td>\n",
              "    </tr>\n",
              "    <tr>\n",
              "      <th>7</th>\n",
              "      <td>Лебедев Олег Александрович</td>\n",
              "      <td>Фракция Политической партии \"КОММУНИСТИЧЕСКАЯ ...</td>\n",
              "      <td>684.0</td>\n",
              "      <td>0.042</td>\n",
              "    </tr>\n",
              "    <tr>\n",
              "      <th>8</th>\n",
              "      <td>Парфенов Денис Андреевич</td>\n",
              "      <td>Фракция Политической партии \"КОММУНИСТИЧЕСКАЯ ...</td>\n",
              "      <td>684.0</td>\n",
              "      <td>0.042</td>\n",
              "    </tr>\n",
              "    <tr>\n",
              "      <th>9</th>\n",
              "      <td>Поздняков Владимир Георгиевич</td>\n",
              "      <td>Фракция Политической партии \"КОММУНИСТИЧЕСКАЯ ...</td>\n",
              "      <td>684.0</td>\n",
              "      <td>0.042</td>\n",
              "    </tr>\n",
              "  </tbody>\n",
              "</table>\n",
              "</div>"
            ],
            "text/plain": [
              "                    имя_депутата  ... процент_голосов_против\n",
              "0  Куринный Алексей Владимирович  ...                  0.047\n",
              "1       Осадчий Николай Иванович  ...                  0.045\n",
              "2  Коломейцев Николай Васильевич  ...                  0.044\n",
              "3         Ганзя Вера Анатольевна  ...                  0.044\n",
              "4     Арефьев Николай Васильевич  ...                  0.044\n",
              "5       Казанков Сергей Иванович  ...                  0.043\n",
              "6    Кравец Александр Алексеевич  ...                  0.043\n",
              "7     Лебедев Олег Александрович  ...                  0.042\n",
              "8       Парфенов Денис Андреевич  ...                  0.042\n",
              "9  Поздняков Владимир Георгиевич  ...                  0.042\n",
              "\n",
              "[10 rows x 4 columns]"
            ]
          },
          "metadata": {
            "tags": []
          },
          "execution_count": 15
        }
      ]
    },
    {
      "cell_type": "markdown",
      "metadata": {
        "id": "gtDTW70uYV4H"
      },
      "source": [
        "И вот тут становится понятно почему процент \"против\" такой низкий. Большинство оппозиционных депутатов предпочитают не голосовать вовсе, чем голосовать \"против\". "
      ]
    },
    {
      "cell_type": "code",
      "metadata": {
        "colab": {
          "base_uri": "https://localhost:8080/",
          "height": 237
        },
        "id": "xvPiDqxVZUba",
        "outputId": "fb4d9794-2f39-4e52-e87e-5e871343f3e0"
      },
      "source": [
        "# процент не голосовавших\n",
        "party_votings = dep_full_data.groupby(['party'])[['voting_yes_count', 'voting_no_count', 'did_not_vote_count', 'votings']].sum().sort_values(by='voting_yes_count', ascending=False)\n",
        "pd.DataFrame(party_votings.did_not_vote_count / party_votings.votings * 100, columns=['процент_не_голосовавших']).sort_values(by='процент_не_голосовавших', ascending=False)"
      ],
      "execution_count": 18,
      "outputs": [
        {
          "output_type": "execute_result",
          "data": {
            "text/html": [
              "<div>\n",
              "<style scoped>\n",
              "    .dataframe tbody tr th:only-of-type {\n",
              "        vertical-align: middle;\n",
              "    }\n",
              "\n",
              "    .dataframe tbody tr th {\n",
              "        vertical-align: top;\n",
              "    }\n",
              "\n",
              "    .dataframe thead th {\n",
              "        text-align: right;\n",
              "    }\n",
              "</style>\n",
              "<table border=\"1\" class=\"dataframe\">\n",
              "  <thead>\n",
              "    <tr style=\"text-align: right;\">\n",
              "      <th></th>\n",
              "      <th>процент_не_голосовавших</th>\n",
              "    </tr>\n",
              "    <tr>\n",
              "      <th>party</th>\n",
              "      <th></th>\n",
              "    </tr>\n",
              "  </thead>\n",
              "  <tbody>\n",
              "    <tr>\n",
              "      <th>Фракция Политической партии ЛДПР - Либерально-демократической партии России</th>\n",
              "      <td>48.892852</td>\n",
              "    </tr>\n",
              "    <tr>\n",
              "      <th>Депутаты, не входящие во фракции</th>\n",
              "      <td>48.158876</td>\n",
              "    </tr>\n",
              "    <tr>\n",
              "      <th>Фракция Политической партии \"КОММУНИСТИЧЕСКАЯ ПАРТИЯ РОССИЙСКОЙ ФЕДЕРАЦИИ\"</th>\n",
              "      <td>41.778670</td>\n",
              "    </tr>\n",
              "    <tr>\n",
              "      <th>Фракция Политической партии СПРАВЕДЛИВАЯ РОССИЯ</th>\n",
              "      <td>40.765328</td>\n",
              "    </tr>\n",
              "    <tr>\n",
              "      <th>Фракция Всероссийской политической партии \"ЕДИНАЯ РОССИЯ\"</th>\n",
              "      <td>29.161248</td>\n",
              "    </tr>\n",
              "  </tbody>\n",
              "</table>\n",
              "</div>"
            ],
            "text/plain": [
              "                                                    процент_не_голосовавших\n",
              "party                                                                      \n",
              "Фракция Политической партии ЛДПР - Либерально-д...                48.892852\n",
              "Депутаты, не входящие во фракции                                  48.158876\n",
              "Фракция Политической партии \"КОММУНИСТИЧЕСКАЯ П...                41.778670\n",
              "Фракция Политической партии СПРАВЕДЛИВАЯ РОССИЯ                   40.765328\n",
              "Фракция Всероссийской политической партии \"ЕДИН...                29.161248"
            ]
          },
          "metadata": {
            "tags": []
          },
          "execution_count": 18
        }
      ]
    },
    {
      "cell_type": "code",
      "metadata": {
        "colab": {
          "base_uri": "https://localhost:8080/",
          "height": 237
        },
        "id": "Ofup-H0lYpF5",
        "outputId": "8326defa-222a-4813-fafa-eb8596773174"
      },
      "source": [
        "# процент голосовавших за\n",
        "pd.DataFrame(party_votings.voting_yes_count / party_votings.votings * 100, columns=['процент \"за\"']).sort_values(by='процент \"за\"', ascending=False)"
      ],
      "execution_count": null,
      "outputs": [
        {
          "output_type": "execute_result",
          "data": {
            "text/html": [
              "<div>\n",
              "<style scoped>\n",
              "    .dataframe tbody tr th:only-of-type {\n",
              "        vertical-align: middle;\n",
              "    }\n",
              "\n",
              "    .dataframe tbody tr th {\n",
              "        vertical-align: top;\n",
              "    }\n",
              "\n",
              "    .dataframe thead th {\n",
              "        text-align: right;\n",
              "    }\n",
              "</style>\n",
              "<table border=\"1\" class=\"dataframe\">\n",
              "  <thead>\n",
              "    <tr style=\"text-align: right;\">\n",
              "      <th></th>\n",
              "      <th>процент \"за\"</th>\n",
              "    </tr>\n",
              "    <tr>\n",
              "      <th>party</th>\n",
              "      <th></th>\n",
              "    </tr>\n",
              "  </thead>\n",
              "  <tbody>\n",
              "    <tr>\n",
              "      <th>Фракция Всероссийской политической партии \"ЕДИНАЯ РОССИЯ\"</th>\n",
              "      <td>70.635910</td>\n",
              "    </tr>\n",
              "    <tr>\n",
              "      <th>Фракция Политической партии СПРАВЕДЛИВАЯ РОССИЯ</th>\n",
              "      <td>55.265822</td>\n",
              "    </tr>\n",
              "    <tr>\n",
              "      <th>Фракция Политической партии \"КОММУНИСТИЧЕСКАЯ ПАРТИЯ РОССИЙСКОЙ ФЕДЕРАЦИИ\"</th>\n",
              "      <td>53.980335</td>\n",
              "    </tr>\n",
              "    <tr>\n",
              "      <th>Депутаты, не входящие во фракции</th>\n",
              "      <td>50.392876</td>\n",
              "    </tr>\n",
              "    <tr>\n",
              "      <th>Фракция Политической партии ЛДПР - Либерально-демократической партии России</th>\n",
              "      <td>49.313644</td>\n",
              "    </tr>\n",
              "  </tbody>\n",
              "</table>\n",
              "</div>"
            ],
            "text/plain": [
              "                                                    процент \"за\"\n",
              "party                                                           \n",
              "Фракция Всероссийской политической партии \"ЕДИН...     70.635910\n",
              "Фракция Политической партии СПРАВЕДЛИВАЯ РОССИЯ        55.265822\n",
              "Фракция Политической партии \"КОММУНИСТИЧЕСКАЯ П...     53.980335\n",
              "Депутаты, не входящие во фракции                       50.392876\n",
              "Фракция Политической партии ЛДПР - Либерально-д...     49.313644"
            ]
          },
          "metadata": {
            "tags": []
          },
          "execution_count": 46
        }
      ]
    },
    {
      "cell_type": "code",
      "metadata": {
        "colab": {
          "base_uri": "https://localhost:8080/",
          "height": 237
        },
        "id": "bk8qV13v28n1",
        "outputId": "5ac76fbc-221d-40cf-f01a-f10daa11fc63"
      },
      "source": [
        "# процент голосовавших против\n",
        "pd.DataFrame(party_votings.voting_no_count / party_votings.votings * 100, columns=['процент \"против\"']).sort_values(by='процент \"против\"', ascending=False)"
      ],
      "execution_count": null,
      "outputs": [
        {
          "output_type": "execute_result",
          "data": {
            "text/html": [
              "<div>\n",
              "<style scoped>\n",
              "    .dataframe tbody tr th:only-of-type {\n",
              "        vertical-align: middle;\n",
              "    }\n",
              "\n",
              "    .dataframe tbody tr th {\n",
              "        vertical-align: top;\n",
              "    }\n",
              "\n",
              "    .dataframe thead th {\n",
              "        text-align: right;\n",
              "    }\n",
              "</style>\n",
              "<table border=\"1\" class=\"dataframe\">\n",
              "  <thead>\n",
              "    <tr style=\"text-align: right;\">\n",
              "      <th></th>\n",
              "      <th>процент \"против\"</th>\n",
              "    </tr>\n",
              "    <tr>\n",
              "      <th>party</th>\n",
              "      <th></th>\n",
              "    </tr>\n",
              "  </thead>\n",
              "  <tbody>\n",
              "    <tr>\n",
              "      <th>Фракция Политической партии \"КОММУНИСТИЧЕСКАЯ ПАРТИЯ РОССИЙСКОЙ ФЕДЕРАЦИИ\"</th>\n",
              "      <td>3.921832</td>\n",
              "    </tr>\n",
              "    <tr>\n",
              "      <th>Фракция Политической партии СПРАВЕДЛИВАЯ РОССИЯ</th>\n",
              "      <td>3.515516</td>\n",
              "    </tr>\n",
              "    <tr>\n",
              "      <th>Фракция Политической партии ЛДПР - Либерально-демократической партии России</th>\n",
              "      <td>1.429266</td>\n",
              "    </tr>\n",
              "    <tr>\n",
              "      <th>Депутаты, не входящие во фракции</th>\n",
              "      <td>1.050750</td>\n",
              "    </tr>\n",
              "    <tr>\n",
              "      <th>Фракция Всероссийской политической партии \"ЕДИНАЯ РОССИЯ\"</th>\n",
              "      <td>0.172220</td>\n",
              "    </tr>\n",
              "  </tbody>\n",
              "</table>\n",
              "</div>"
            ],
            "text/plain": [
              "                                                    процент \"против\"\n",
              "party                                                               \n",
              "Фракция Политической партии \"КОММУНИСТИЧЕСКАЯ П...          3.921832\n",
              "Фракция Политической партии СПРАВЕДЛИВАЯ РОССИЯ             3.515516\n",
              "Фракция Политической партии ЛДПР - Либерально-д...          1.429266\n",
              "Депутаты, не входящие во фракции                            1.050750\n",
              "Фракция Всероссийской политической партии \"ЕДИН...          0.172220"
            ]
          },
          "metadata": {
            "tags": []
          },
          "execution_count": 47
        }
      ]
    },
    {
      "cell_type": "markdown",
      "metadata": {
        "id": "RkSsA-em3ef4"
      },
      "source": [
        "### Скрейпинг данных"
      ]
    },
    {
      "cell_type": "code",
      "metadata": {
        "id": "KFw1lFGN28l5"
      },
      "source": [
        "search_bar = browser.find_element(By.XPATH, '//*[@id=\"input-search-1\"]')"
      ],
      "execution_count": null,
      "outputs": []
    },
    {
      "cell_type": "code",
      "metadata": {
        "id": "lq6FEBcd28l9"
      },
      "source": [
        "search_bar.click()\n",
        "search_bar.send_keys('Валуев Николай Сергеевич')"
      ],
      "execution_count": null,
      "outputs": []
    },
    {
      "cell_type": "code",
      "metadata": {
        "id": "xcq1Mbnu28mA"
      },
      "source": [
        "dep_data = [i.text for i in browser.find_elements(By.XPATH, '//div[@class=\"person__description__col\"]')]"
      ],
      "execution_count": null,
      "outputs": []
    },
    {
      "cell_type": "code",
      "metadata": {
        "id": "CVyhOKXo28mC"
      },
      "source": [
        "browser.find_element(By.XPATH, '//*[@id=\"input-search-1\"]')"
      ],
      "execution_count": null,
      "outputs": []
    },
    {
      "cell_type": "code",
      "metadata": {
        "id": "-iUkVK0T28mF"
      },
      "source": [
        "dep_link = browser.find_element(By.XPATH, '//a[@class=\"autocomplete__result__link link link--color\"]').get_attribute('href') "
      ],
      "execution_count": null,
      "outputs": []
    },
    {
      "cell_type": "code",
      "metadata": {
        "id": "rMyscp4X28mI"
      },
      "source": [
        "dep_link"
      ],
      "execution_count": null,
      "outputs": []
    },
    {
      "cell_type": "code",
      "metadata": {
        "id": "efOVlzVL28mP"
      },
      "source": [
        "browser.get(url_1)\n",
        "WebDriverWait(browser, 10).until(EC.element_to_be_clickable((By.XPATH, '//*[@id=\"input-search-1\"]'))).click()"
      ],
      "execution_count": null,
      "outputs": []
    },
    {
      "cell_type": "code",
      "metadata": {
        "id": "cb_1RLY728mR"
      },
      "source": [
        "search_bar.send_keys('fsafsafs')\n",
        "try:\n",
        "    WebDriverWait(browser, 3).until(EC.element_to_be_clickable((By.XPATH, '//h4[@class=\"autocomplete__result__title\"]')))\n",
        "    dep_data = [i.text for i in browser.find_elements(By.XPATH, '//div[@class=\"person__description__col\"]')]\n",
        "    dep_data = [i.text for i in browser.find_elements(By.XPATH, '//div[@class=\"person__description__col\"]')]\n",
        "\n",
        "except TimeoutException:\n",
        "    print('Элемент не загрузился')"
      ],
      "execution_count": null,
      "outputs": []
    },
    {
      "cell_type": "code",
      "metadata": {
        "id": "FNYEmACJ28mV"
      },
      "source": [
        "dep_names = pd.read_csv('dep_names.csv', header=None)"
      ],
      "execution_count": null,
      "outputs": []
    },
    {
      "cell_type": "code",
      "metadata": {
        "id": "X7NEl6Zt28mX"
      },
      "source": [
        "deputy = []"
      ],
      "execution_count": null,
      "outputs": []
    },
    {
      "cell_type": "code",
      "metadata": {
        "id": "GWIDnTox28ma"
      },
      "source": [
        "for name in dep_names.values:\n",
        "    browser.get('http://duma.gov.ru/duma/deputies/')\n",
        "    WebDriverWait(browser, 10).until(EC.element_to_be_clickable((By.XPATH, '//*[@id=\"input-search-1\"]'))).click()\n",
        "    search_bar = browser.find_element(By.XPATH, '//*[@id=\"input-search-1\"]')\n",
        "    search_bar.send_keys(name[0])\n",
        "    try:\n",
        "        dep_data = []\n",
        "        dep_link = []\n",
        "        WebDriverWait(browser, 3).until(EC.element_to_be_clickable((By.XPATH, '//h4[@class=\"autocomplete__result__title\"]')))\n",
        "        dep_data = [i.text for i in browser.find_elements(By.XPATH, '//div[@class=\"person__description__col\"]')]\n",
        "        dep_link = browser.find_element(By.XPATH, '//a[@class=\"autocomplete__result__link link link--color\"]').get_attribute('href')\n",
        "        deputy.append([name[0], dep_data, dep_link])\n",
        "        print(name[0], 'собран')\n",
        "    except TimeoutException:\n",
        "        print('Элемент не загрузился')"
      ],
      "execution_count": null,
      "outputs": []
    },
    {
      "cell_type": "code",
      "metadata": {
        "id": "LcudQIGI28mh"
      },
      "source": [
        "dep_data = pd.read_csv('dep_data.csv')"
      ],
      "execution_count": null,
      "outputs": []
    },
    {
      "cell_type": "code",
      "metadata": {
        "id": "K9cqblDk28mh"
      },
      "source": [
        "dep_data.head()"
      ],
      "execution_count": null,
      "outputs": []
    },
    {
      "cell_type": "code",
      "metadata": {
        "id": "xR-DeJeH28mj"
      },
      "source": [
        "links = dep_data['Ссылка']"
      ],
      "execution_count": null,
      "outputs": []
    },
    {
      "cell_type": "code",
      "metadata": {
        "id": "2q6STCJL28ml"
      },
      "source": [
        "new_url = 'http://vote.duma.gov.ru/?convocation=AAAAAAA7&deputy=99112936&sort=date_desc'"
      ],
      "execution_count": null,
      "outputs": []
    },
    {
      "cell_type": "code",
      "metadata": {
        "id": "hkDKn50728mm"
      },
      "source": [
        "deps_id = []"
      ],
      "execution_count": null,
      "outputs": []
    },
    {
      "cell_type": "code",
      "metadata": {
        "id": "qTPYyaj_28mn"
      },
      "source": [
        "for i in links:\n",
        "    deps_id.append(i.split('/')[5])"
      ],
      "execution_count": null,
      "outputs": []
    },
    {
      "cell_type": "code",
      "metadata": {
        "id": "1VIKXiHU28mq"
      },
      "source": [
        "for i in dep_absence_data:\n",
        "    print(i[0])"
      ],
      "execution_count": null,
      "outputs": []
    },
    {
      "cell_type": "code",
      "metadata": {
        "id": "Dt6Tewmv28mt"
      },
      "source": [
        "for i in dep_absence_data:\n",
        "    print(i[2])"
      ],
      "execution_count": null,
      "outputs": []
    },
    {
      "cell_type": "code",
      "metadata": {
        "id": "W811D34e28mw"
      },
      "source": [
        "dep_absence_data = []\n",
        "for i in deps_id:\n",
        "    try:\n",
        "        new_url = f'http://vote.duma.gov.ru/?convocation=AAAAAAA7&deputy={i}&sort=date_desc'\n",
        "        browser.get(new_url)\n",
        "        WebDriverWait(browser, 10).until(EC.presence_of_element_located((By.XPATH, '//div[@class=\"link-statis\"]')))\n",
        "        browser.find_element(By.XPATH, '//div[@class=\"link-statis\"]').find_element_by_tag_name('span').click()\n",
        "        time.sleep(2)\n",
        "        WebDriverWait(browser, 10).until(EC.presence_of_element_located((By.XPATH, '//div[@class=\"s-head\"]')))\n",
        "        presence_on_meeting = browser.find_element(By.XPATH, '//div[@class=\"pers-p\"]').text.split('\\n')[0]\n",
        "        absence_on_meeting = browser.find_element(By.XPATH, '//div[@class=\"pers-m\"]').text.split('\\n')\n",
        "        dep_name = browser.find_element(By.XPATH, '//div[@class=\"deputies\"]').find_element_by_tag_name('span').text\n",
        "        if len(absence_on_meeting) == 1:\n",
        "            new_abs = 360 - int(presence_on_meeting)\n",
        "            print(dep_name)\n",
        "            print(presence_on_meeting)\n",
        "            print(new_abs)\n",
        "            dep_absence_data.append([dep_name, presence_on_meeting, new_abs])\n",
        "        else:\n",
        "            print(dep_name)\n",
        "            print(presence_on_meeting)\n",
        "            print(absence_on_meeting[0])\n",
        "            dep_absence_data.append([dep_name, presence_on_meeting, absence_on_meeting[0]])\n",
        "    except TimeoutException:\n",
        "        print('Time is over')"
      ],
      "execution_count": null,
      "outputs": []
    },
    {
      "cell_type": "code",
      "metadata": {
        "id": "GotrmZSj28my"
      },
      "source": [
        "browser.get('http://vote.duma.gov.ru/?convocation=AAAAAAA7&deputy=99111804&sort=date_desc')"
      ],
      "execution_count": null,
      "outputs": []
    },
    {
      "cell_type": "code",
      "metadata": {
        "id": "pODNF7Pt28m0"
      },
      "source": [
        "WebDriverWait(browser, 10).until(EC.element_to_be_clickable((By.XPATH, '//span[@class=\"act\"]'))).click()"
      ],
      "execution_count": null,
      "outputs": []
    },
    {
      "cell_type": "code",
      "metadata": {
        "id": "O6Ee7ueD28m1"
      },
      "source": [
        "browser.find_element(By.XPATH, '//div[@class=\"link-statis\"]').find_element_by_tag_name('span').click()"
      ],
      "execution_count": null,
      "outputs": []
    },
    {
      "cell_type": "code",
      "metadata": {
        "id": "8LRHGm9s28m1"
      },
      "source": [
        ""
      ],
      "execution_count": null,
      "outputs": []
    },
    {
      "cell_type": "code",
      "metadata": {
        "id": "fQmGO0YI28m3"
      },
      "source": [
        "amount_of_meetings = s_head.find_element_by_tag_name('span').text.split(':')[1]"
      ],
      "execution_count": null,
      "outputs": []
    },
    {
      "cell_type": "code",
      "metadata": {
        "id": "hOXATfrG28m5"
      },
      "source": [
        "not_presence"
      ],
      "execution_count": null,
      "outputs": []
    },
    {
      "cell_type": "code",
      "metadata": {
        "id": "1f-PkMTq28m-"
      },
      "source": [
        ""
      ],
      "execution_count": null,
      "outputs": []
    },
    {
      "cell_type": "code",
      "metadata": {
        "id": "YOKgMZLY28oG"
      },
      "source": [
        "dep_1 = requests.get('http://duma.gov.ru/duma/persons/99111780/')\n",
        "soup = BeautifulSoup(dep_1.text, 'lxml')"
      ],
      "execution_count": null,
      "outputs": []
    },
    {
      "cell_type": "code",
      "metadata": {
        "id": "hl_0Fg-m28oI"
      },
      "source": [
        "soup.find('div', 'person__description__grid').find('a', 'link link--underline person__description__link').text"
      ],
      "execution_count": null,
      "outputs": []
    },
    {
      "cell_type": "code",
      "metadata": {
        "id": "ALnm_bi628oJ"
      },
      "source": [
        "soup.find('div', 'person__description__grid').find_all('div', 'person__description__col')"
      ],
      "execution_count": null,
      "outputs": []
    },
    {
      "cell_type": "code",
      "metadata": {
        "id": "Vgsv52gq28oK"
      },
      "source": [
        ""
      ],
      "execution_count": null,
      "outputs": []
    },
    {
      "cell_type": "code",
      "metadata": {
        "id": "7j6G4xg33X3H"
      },
      "source": [
        ""
      ],
      "execution_count": null,
      "outputs": []
    },
    {
      "cell_type": "markdown",
      "metadata": {
        "id": "5aIsv_FQ28nA"
      },
      "source": [
        "## Извлекаем всех действующих депутатов"
      ]
    },
    {
      "cell_type": "code",
      "metadata": {
        "id": "-iHi4X9X28nC"
      },
      "source": [
        "duma = requests.get('http://duma.gov.ru/duma/deputies/7/')\n",
        "soup = BeautifulSoup(duma.text, 'lxml')\n",
        "deputy_names = soup.find_all('h2', 'person__title person__title--s')\n",
        "names = []\n",
        "links = []\n",
        "for tag in deputy_names:\n",
        "    names.append(tag.get_text(separator=\" \").strip())\n",
        "    links.append('http://duma.gov.ru' + tag.a['href'])"
      ],
      "execution_count": null,
      "outputs": []
    },
    {
      "cell_type": "code",
      "metadata": {
        "id": "LJSXXh5x28nE",
        "outputId": "faeb78a7-9077-4757-e788-e70ca0bceaa2"
      },
      "source": [
        "len(names)"
      ],
      "execution_count": null,
      "outputs": [
        {
          "output_type": "execute_result",
          "data": {
            "text/plain": [
              "443"
            ]
          },
          "metadata": {
            "tags": []
          },
          "execution_count": 7
        }
      ]
    },
    {
      "cell_type": "code",
      "metadata": {
        "id": "sAv05kyH28nF"
      },
      "source": [
        "fractions = []\n",
        "regions = []\n",
        "laws = []\n",
        "apsences = []\n",
        "count = 0\n",
        "for li in links:\n",
        "    req = requests.get(li)\n",
        "    soup = BeautifulSoup(req.text, 'lxml')\n",
        "    fraction = soup.find('a', 'link link--underline person__description__link').text\n",
        "    region = soup.find('a', 'link link--underline person__description__link').findNext('div').findNext('div').text\n",
        "    law = soup.find('a', 'nav__link link--external').findNext('a')['href']\n",
        "    apsence = soup.find('a', 'nav__link link--external').findNext('a').findNext('a')['href']\n",
        "    fractions.append(fraction)\n",
        "    regions.append(region)\n",
        "    laws.append(law)\n",
        "    apsences.append(apsence)\n",
        "    count+=1"
      ],
      "execution_count": null,
      "outputs": []
    },
    {
      "cell_type": "code",
      "metadata": {
        "id": "Qrra8yKR28nG"
      },
      "source": [
        "dep_new_data = pd.DataFrame({\n",
        "    'dep_links': links,\n",
        "    'fractions': fractions,\n",
        "    'laws_link': laws,\n",
        "    'apsences_link': apsences\n",
        "})"
      ],
      "execution_count": null,
      "outputs": []
    },
    {
      "cell_type": "code",
      "metadata": {
        "id": "1FpMh_rv28nI",
        "outputId": "d9416a28-cbd7-4700-83b3-722e3dddb5e3"
      },
      "source": [
        "dep_new_data.head()"
      ],
      "execution_count": null,
      "outputs": [
        {
          "output_type": "execute_result",
          "data": {
            "text/html": [
              "<div>\n",
              "<style scoped>\n",
              "    .dataframe tbody tr th:only-of-type {\n",
              "        vertical-align: middle;\n",
              "    }\n",
              "\n",
              "    .dataframe tbody tr th {\n",
              "        vertical-align: top;\n",
              "    }\n",
              "\n",
              "    .dataframe thead th {\n",
              "        text-align: right;\n",
              "    }\n",
              "</style>\n",
              "<table border=\"1\" class=\"dataframe\">\n",
              "  <thead>\n",
              "    <tr style=\"text-align: right;\">\n",
              "      <th></th>\n",
              "      <th>dep_links</th>\n",
              "      <th>fractions</th>\n",
              "      <th>laws_link</th>\n",
              "      <th>apsences_link</th>\n",
              "    </tr>\n",
              "  </thead>\n",
              "  <tbody>\n",
              "    <tr>\n",
              "      <th>0</th>\n",
              "      <td>http://duma.gov.ru/duma/persons/99112936/</td>\n",
              "      <td>«ЕДИНАЯ РОССИЯ»</td>\n",
              "      <td>http://sozd.duma.gov.ru/oz?cond%5BThematicBloc...</td>\n",
              "      <td>http://vote.duma.gov.ru/?convocation=AAAAAAA7&amp;...</td>\n",
              "    </tr>\n",
              "    <tr>\n",
              "      <th>1</th>\n",
              "      <td>http://duma.gov.ru/duma/persons/99112712/</td>\n",
              "      <td>«ЕДИНАЯ РОССИЯ»</td>\n",
              "      <td>http://sozd.duma.gov.ru/oz?cond%5BThematicBloc...</td>\n",
              "      <td>http://vote.duma.gov.ru/?convocation=AAAAAAA7&amp;...</td>\n",
              "    </tr>\n",
              "    <tr>\n",
              "      <th>2</th>\n",
              "      <td>http://duma.gov.ru/duma/persons/99109653/</td>\n",
              "      <td>«ЕДИНАЯ РОССИЯ»</td>\n",
              "      <td>http://sozd.duma.gov.ru/oz?cond%5BThematicBloc...</td>\n",
              "      <td>http://vote.duma.gov.ru/?convocation=AAAAAAA7&amp;...</td>\n",
              "    </tr>\n",
              "    <tr>\n",
              "      <th>3</th>\n",
              "      <td>http://duma.gov.ru/duma/persons/99100784/</td>\n",
              "      <td>СПРАВЕДЛИВАЯ РОССИЯ</td>\n",
              "      <td>http://sozd.duma.gov.ru/oz?cond%5BThematicBloc...</td>\n",
              "      <td>http://vote.duma.gov.ru/?convocation=AAAAAAA7&amp;...</td>\n",
              "    </tr>\n",
              "    <tr>\n",
              "      <th>4</th>\n",
              "      <td>http://duma.gov.ru/duma/persons/99111778/</td>\n",
              "      <td>«ЕДИНАЯ РОССИЯ»</td>\n",
              "      <td>http://sozd.duma.gov.ru/oz?cond%5BThematicBloc...</td>\n",
              "      <td>http://vote.duma.gov.ru/?convocation=AAAAAAA7&amp;...</td>\n",
              "    </tr>\n",
              "  </tbody>\n",
              "</table>\n",
              "</div>"
            ],
            "text/plain": [
              "                                   dep_links            fractions  \\\n",
              "0  http://duma.gov.ru/duma/persons/99112936/      «ЕДИНАЯ РОССИЯ»   \n",
              "1  http://duma.gov.ru/duma/persons/99112712/      «ЕДИНАЯ РОССИЯ»   \n",
              "2  http://duma.gov.ru/duma/persons/99109653/      «ЕДИНАЯ РОССИЯ»   \n",
              "3  http://duma.gov.ru/duma/persons/99100784/  СПРАВЕДЛИВАЯ РОССИЯ   \n",
              "4  http://duma.gov.ru/duma/persons/99111778/      «ЕДИНАЯ РОССИЯ»   \n",
              "\n",
              "                                           laws_link  \\\n",
              "0  http://sozd.duma.gov.ru/oz?cond%5BThematicBloc...   \n",
              "1  http://sozd.duma.gov.ru/oz?cond%5BThematicBloc...   \n",
              "2  http://sozd.duma.gov.ru/oz?cond%5BThematicBloc...   \n",
              "3  http://sozd.duma.gov.ru/oz?cond%5BThematicBloc...   \n",
              "4  http://sozd.duma.gov.ru/oz?cond%5BThematicBloc...   \n",
              "\n",
              "                                       apsences_link  \n",
              "0  http://vote.duma.gov.ru/?convocation=AAAAAAA7&...  \n",
              "1  http://vote.duma.gov.ru/?convocation=AAAAAAA7&...  \n",
              "2  http://vote.duma.gov.ru/?convocation=AAAAAAA7&...  \n",
              "3  http://vote.duma.gov.ru/?convocation=AAAAAAA7&...  \n",
              "4  http://vote.duma.gov.ru/?convocation=AAAAAAA7&...  "
            ]
          },
          "metadata": {
            "tags": []
          },
          "execution_count": 11
        }
      ]
    },
    {
      "cell_type": "code",
      "metadata": {
        "id": "9FCfg8OV28nM"
      },
      "source": [
        "dep_1 = requests.get('http://duma.gov.ru/duma/persons/99112936/')\n",
        "soup = BeautifulSoup(dep_1.text, 'lxml')"
      ],
      "execution_count": null,
      "outputs": []
    },
    {
      "cell_type": "code",
      "metadata": {
        "id": "LqlTb8SF28nN"
      },
      "source": [
        "for i in enumerate(fractions):\n",
        "    if i[1] != '«ЕДИНАЯ РОССИЯ»' and i[1] !='СПРАВЕДЛИВАЯ РОССИЯ' and i[1] != 'ЛДПР' and i[1] != 'КПРФ':\n",
        "        print(i)"
      ],
      "execution_count": null,
      "outputs": []
    },
    {
      "cell_type": "code",
      "metadata": {
        "id": "bU0hJyQU28nO"
      },
      "source": [
        ""
      ],
      "execution_count": null,
      "outputs": []
    },
    {
      "cell_type": "code",
      "metadata": {
        "id": "4VBNJ6lq28nQ"
      },
      "source": [
        ""
      ],
      "execution_count": null,
      "outputs": []
    },
    {
      "cell_type": "code",
      "metadata": {
        "id": "6E5GMcWt28nR"
      },
      "source": [
        ""
      ],
      "execution_count": null,
      "outputs": []
    },
    {
      "cell_type": "code",
      "metadata": {
        "id": "zTFWVfOK28nR"
      },
      "source": [
        "meetings = []\n",
        "presence_percents = []\n",
        "absence_precents = []\n",
        "dep_names = []\n",
        "dep_parties = []\n",
        "voting_totals = []\n",
        "voting_yeses = []\n",
        "voting_noes = []\n",
        "voting_abstaines = []\n",
        "not_votes = []\n",
        "missing_request = []\n",
        "\n",
        "browser = webdriver.Chrome(executable_path=r'chromedriver.exe')\n",
        "\n",
        "for li in dep_new_data.apsences_link:\n",
        "    try:\n",
        "        browser.get(li)\n",
        "        WebDriverWait(browser, 3).until(EC.element_to_be_clickable((By.XPATH, '//div[@class=\"link-statis\"]'))).click()\n",
        "        time.sleep(3)\n",
        "        total_meet = browser.find_element(By.XPATH, '//div[@class=\"s-head\"]').find_element_by_tag_name('span').text # сколько заседаний всего\n",
        "        presence_percent = browser.find_element(By.XPATH, '//div[@class=\"pers-p\"]').find_elements_by_tag_name('span')[1].text # сколько заседаний посетил\n",
        "        absence_precent = browser.find_element(By.XPATH, '//div[@class=\"pers-m\"]').find_elements_by_tag_name('span')[1].text # сколько заседаний пропустил\n",
        "        dep_name = browser.find_element(By.XPATH, '//div[@class=\"deputies\"]').find_element_by_tag_name('span').text # имя депутата\n",
        "        dep_party = browser.find_element(By.XPATH, '//div[@class=\"deputies\"]').find_element_by_tag_name('a').text # партия\n",
        "        voting_total = browser.find_element(By.XPATH, '//div[@class=\"statis-r\"]').find_element_by_tag_name('div').find_element_by_tag_name('span').text # сколько голосований\n",
        "        voting_yes = browser.find_element(By.XPATH, '//div[@class=\"ep-green\"]').find_elements_by_tag_name('span')[2].text # голосования за\n",
        "        voting_no = browser.find_element(By.XPATH, '//div[@class=\"ep-red\"]').find_elements_by_tag_name('span')[2].text # голосования против\n",
        "        voting_abstained = browser.find_element(By.XPATH, '//div[@class=\"ep-red\"]').find_elements_by_tag_name('span')[2].text # голосования воздержался\n",
        "        not_voted = browser.find_element(By.XPATH, '//div[@class=\"ep-gray\"]').find_elements_by_tag_name('span')[2].text # не голосовал\n",
        "        \n",
        "        meetings.append(total_meet)\n",
        "        presence_percents.append(presence_percent)\n",
        "        absence_precents.append(absence_precent)\n",
        "        dep_names.append(dep_name)\n",
        "        dep_parties.append(dep_party)\n",
        "        voting_totals.append(voting_total)\n",
        "        voting_yeses.append(voting_yes)\n",
        "        voting_noes.append(voting_no)\n",
        "        voting_abstaines.append(voting_abstained)\n",
        "        not_votes.append(not_voted)\n",
        "        \n",
        "        print(dep_name)\n",
        "    except NoSuchElementException:\n",
        "        missing_request.append(li)\n",
        "        print('Страница не загрузилась')\n",
        "    except TimeoutException:\n",
        "        missing_request.append(li)\n",
        "        print('Страница не загрузилась')"
      ],
      "execution_count": null,
      "outputs": []
    },
    {
      "cell_type": "code",
      "metadata": {
        "id": "jxosdY7i28nT"
      },
      "source": [
        "dep_full_data = pd.DataFrame({\n",
        "    'meetings':meetings,\n",
        "    'percent_of_presence':presence_percents,\n",
        "    'percent_of_absence':absence_precents,\n",
        "    'name':dep_names,\n",
        "    'party':dep_parties,\n",
        "    'votings':voting_totals,\n",
        "    'voting_yes':voting_yeses,\n",
        "    'voting_no':voting_noes,\n",
        "    'voting_abstained':voting_abstaines,\n",
        "    'did_not_vote':not_votes,\n",
        "})"
      ],
      "execution_count": null,
      "outputs": []
    },
    {
      "cell_type": "code",
      "metadata": {
        "id": "1Z7_qi-b28nV"
      },
      "source": [
        "dep_full_data.to_csv('dep_full_data.csv')"
      ],
      "execution_count": null,
      "outputs": []
    },
    {
      "cell_type": "code",
      "metadata": {
        "id": "jPCDtLlw28nX"
      },
      "source": [
        "dep_full_data = pd.read_csv('dep_full_data.csv')\n",
        "dep_full_data = dep_full_data.drop(columns='Unnamed: 0')"
      ],
      "execution_count": null,
      "outputs": []
    },
    {
      "cell_type": "code",
      "metadata": {
        "id": "_RwxETTJ28nY"
      },
      "source": [
        "dep_full_data.votings = dep_full_data.votings.apply(lambda x: x.split(\": \")[1])"
      ],
      "execution_count": null,
      "outputs": []
    },
    {
      "cell_type": "code",
      "metadata": {
        "id": "BFxvPo0v28na"
      },
      "source": [
        "dep_full_data.meetings = dep_full_data.meetings.apply(lambda x: x.split(\": \")[1])"
      ],
      "execution_count": null,
      "outputs": []
    },
    {
      "cell_type": "code",
      "metadata": {
        "id": "nAuQNysf28nb"
      },
      "source": [
        "dep_full_data[['meetings', 'votings']] = dep_full_data[['meetings', 'votings']].astype(int)"
      ],
      "execution_count": null,
      "outputs": []
    },
    {
      "cell_type": "code",
      "metadata": {
        "id": "lMZAZNXG28nc"
      },
      "source": [
        "dep_full_data.percent_of_presence = dep_full_data.percent_of_presence.str.strip('%')\n",
        "dep_full_data.percent_of_absence = dep_full_data.percent_of_absence.str.strip('%')\n",
        "dep_full_data.voting_yes = dep_full_data.voting_yes.str.strip('%')\n",
        "dep_full_data.voting_no = dep_full_data.voting_no.str.strip('%')\n",
        "dep_full_data.voting_abstained = dep_full_data.voting_abstained.str.strip('%')\n",
        "dep_full_data.did_not_vote = dep_full_data.did_not_vote.str.strip('%')"
      ],
      "execution_count": null,
      "outputs": []
    },
    {
      "cell_type": "code",
      "metadata": {
        "id": "B5XnKxxd28nf"
      },
      "source": [
        "dep_full_data.percent_of_presence = dep_full_data.percent_of_presence.str.strip(' ')\n",
        "dep_full_data.percent_of_absence = dep_full_data.percent_of_absence.str.strip(' ')\n",
        "dep_full_data.voting_yes = dep_full_data.voting_yes.str.strip(' ')\n",
        "dep_full_data.voting_no = dep_full_data.voting_no.str.strip(' ')\n",
        "dep_full_data.voting_abstained = dep_full_data.voting_abstained.str.strip(' ')\n",
        "dep_full_data.did_not_vote = dep_full_data.did_not_vote.str.strip(' ')"
      ],
      "execution_count": null,
      "outputs": []
    },
    {
      "cell_type": "code",
      "metadata": {
        "id": "n3fQvb3U28ng"
      },
      "source": [
        "dep_full_data[['percent_of_presence', 'percent_of_absence', 'voting_yes', 'voting_no', 'voting_abstained', 'did_not_vote']] = dep_full_data[['percent_of_presence', 'percent_of_absence', 'voting_yes', 'voting_no', 'voting_abstained', 'did_not_vote']].astype(float)"
      ],
      "execution_count": null,
      "outputs": []
    },
    {
      "cell_type": "code",
      "metadata": {
        "id": "8qSle0vA28nj"
      },
      "source": [
        ""
      ],
      "execution_count": null,
      "outputs": []
    },
    {
      "cell_type": "code",
      "metadata": {
        "id": "kskaj8UQ28nk"
      },
      "source": [
        "dep_full_data[['percent_of_presence', 'percent_of_absence', 'voting_yes', 'voting_no', 'voting_abstained', 'did_not_vote']] = dep_full_data[['percent_of_presence', 'percent_of_absence', 'voting_yes', 'voting_no', 'voting_abstained', 'did_not_vote']].apply(lambda x: x / 100)"
      ],
      "execution_count": null,
      "outputs": []
    },
    {
      "cell_type": "code",
      "metadata": {
        "id": "AOYZJitx28nk"
      },
      "source": [
        "dep_full_data['total_presence'] = round(dep_full_data.meetings * dep_full_data.percent_of_presence)\n",
        "dep_full_data['total_absence'] = round(dep_full_data.meetings * dep_full_data.percent_of_absence)\n",
        "dep_full_data['voting_yes_count'] = round(dep_full_data.votings * dep_full_data.voting_yes)\n",
        "dep_full_data['voting_no_count'] = round(dep_full_data.votings * dep_full_data.voting_no)\n",
        "dep_full_data['voting_abstained_count'] = round(dep_full_data.votings * dep_full_data.voting_abstained)\n",
        "dep_full_data['did_not_vote_count'] = round(dep_full_data.votings * dep_full_data.did_not_vote)"
      ],
      "execution_count": null,
      "outputs": []
    },
    {
      "cell_type": "code",
      "metadata": {
        "id": "PYq66JgU28nl"
      },
      "source": [
        ""
      ],
      "execution_count": null,
      "outputs": []
    },
    {
      "cell_type": "code",
      "metadata": {
        "id": "0rF1FOFl28nm",
        "outputId": "ee52c6b2-1956-459a-d9e3-fd2576f04295"
      },
      "source": [
        "dep_full_data.dep_link[0]"
      ],
      "execution_count": null,
      "outputs": [
        {
          "output_type": "execute_result",
          "data": {
            "text/plain": [
              "'http://vote.duma.gov.ru/?convocation=AAAAAAA7&deputy=99112936&sort=date_desc'"
            ]
          },
          "metadata": {
            "tags": []
          },
          "execution_count": 47
        }
      ]
    }
  ]
}